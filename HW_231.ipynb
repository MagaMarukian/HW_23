{
 "cells": [
  {
   "cell_type": "code",
   "execution_count": 16,
   "id": "044f4813-8ea6-4396-b72e-722312880443",
   "metadata": {},
   "outputs": [],
   "source": [
    "import json\n",
    "list_odd = [i for i in range(1, 1000000, 2)]\n",
    "file1 = open('data.json', 'w+')\n",
    "file1.write(str(list_odd))\n",
    "file1.close()"
   ]
  }
 ],
 "metadata": {
  "kernelspec": {
   "display_name": "Python 3 (ipykernel)",
   "language": "python",
   "name": "python3"
  },
  "language_info": {
   "codemirror_mode": {
    "name": "ipython",
    "version": 3
   },
   "file_extension": ".py",
   "mimetype": "text/x-python",
   "name": "python",
   "nbconvert_exporter": "python",
   "pygments_lexer": "ipython3",
   "version": "3.11.3"
  }
 },
 "nbformat": 4,
 "nbformat_minor": 5
}
